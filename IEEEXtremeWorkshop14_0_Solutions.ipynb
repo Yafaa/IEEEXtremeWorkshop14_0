{
  "nbformat": 4,
  "nbformat_minor": 0,
  "metadata": {
    "colab": {
      "name": "IEEEXtremeWorkshop14.0 Solutions.ipynb",
      "provenance": [],
      "collapsed_sections": [
        "FX_p3eAaZRQW",
        "s0bOkzEJaHD_"
      ],
      "toc_visible": true
    },
    "kernelspec": {
      "name": "python3",
      "display_name": "Python 3"
    }
  },
  "cells": [
    {
      "cell_type": "markdown",
      "metadata": {
        "id": "5zvTsm9QP324"
      },
      "source": [
        ""
      ]
    },
    {
      "cell_type": "markdown",
      "metadata": {
        "id": "5ZeDfgyGYXgH"
      },
      "source": [
        "#### Beginner: MaximumPairwiseProduct Problem"
      ]
    },
    {
      "cell_type": "markdown",
      "metadata": {
        "id": "Izoca1_msE8R"
      },
      "source": [
        "Let’s take a quick look at a simple problem:\n",
        "\n",
        "Given a list of numbers, how would you determine the maximum pairwise product of numbers in the list?\n",
        "\n",
        "For example, if we have the list [1; 3; 5; -2] the maximum pairwise product is 15, which is the product of 3 and 5.\n",
        "\n",
        "The straigt-forward approach is to compute all possible pairwise products and identify the maximum among the intermediate results:\n"
      ]
    },
    {
      "cell_type": "code",
      "metadata": {
        "id": "382B9IDoYa7q"
      },
      "source": [
        "[1,6,3,5,7] => 42\n",
        "[1,2] => 2"
      ],
      "execution_count": null,
      "outputs": []
    },
    {
      "cell_type": "code",
      "metadata": {
        "id": "GMlUJHy7nqMm"
      },
      "source": [
        "def MaxPairwiseProductNaive(A):\n",
        "  product = 0\n",
        "  n = len(A)\n",
        "  for i in range(n):\n",
        "    for j in range(i+1,n):\n",
        "      if product < A[i] * A[j]:\n",
        "        product = A[i]*A[j]\n",
        "  return product"
      ],
      "execution_count": null,
      "outputs": []
    },
    {
      "cell_type": "code",
      "metadata": {
        "id": "8wSAfnrcvfdm",
        "outputId": "c40c69fa-c5fb-4cd2-cb09-19b0962090ca",
        "colab": {
          "base_uri": "https://localhost:8080/",
          "height": 34
        }
      },
      "source": [
        "def MaxPairwiseProductFast(A):\n",
        "  index1 = 0\n",
        "  index2 = 0\n",
        "  n = len(A)\n",
        "  \n",
        "  for i in range(1,n): \n",
        "    if A[i] > A[index1]:\n",
        "      index1 = i\n",
        "\n",
        "  for i in range(n):\n",
        "    if i!=index1 and A[i] > A[index2]:\n",
        "      index2 = i\n",
        "  print(index1,index2)\n",
        "  return A[index1]*A[index2]\n",
        "\n",
        "A = [4, 8, 7, 0]\n",
        "MaxPairwiseProductFast(A)"
      ],
      "execution_count": null,
      "outputs": [
        {
          "output_type": "execute_result",
          "data": {
            "text/plain": [
              "90"
            ]
          },
          "metadata": {
            "tags": []
          },
          "execution_count": 6
        }
      ]
    },
    {
      "cell_type": "code",
      "metadata": {
        "id": "IYyCN_gaP1vH"
      },
      "source": [
        "def MaxPairwiseProductFast(A):\n",
        "  L = A[:]\n",
        "  L.sort()\n",
        "  n = len(L)\n",
        "  return L[n-2]*L[n-1]\n",
        "\n"
      ],
      "execution_count": null,
      "outputs": []
    },
    {
      "cell_type": "code",
      "metadata": {
        "id": "jzUjruXbuGQk"
      },
      "source": [
        "import unittest\n",
        "import time\n",
        "import random\n",
        "class Test(unittest.TestCase):\n",
        "\n",
        "    def assert_equals(self,a,b):\n",
        "        try:\n",
        "          self.assertEqual(a, b)\n",
        "          print('OK')\n",
        "        except Exception as e:\n",
        "          print('FAILED: ',e)\n",
        "    def primary_tests(self,algo):\n",
        "      self.assert_equals(algo([1,6,3,5,7]), 42)\n",
        "      self.assert_equals(algo([1,2]), 2)\n",
        "      self.assert_equals(algo([8,5,10,9]), 90)\n",
        "      self.assert_equals(algo([-5,-6,7,9]), 63)\n"
      ],
      "execution_count": null,
      "outputs": []
    },
    {
      "cell_type": "code",
      "metadata": {
        "id": "zb1TEHVcooZB"
      },
      "source": [
        "import random\n",
        "import time\n",
        "\n",
        "def StressTest(N,M):\n",
        "  timeout = time.time() + 60*2   # 2 minutes from now\n",
        "  while True:\n",
        "    if time.time() > timeout:\n",
        "      print(\"Stress Test ended with success.\")\n",
        "      break\n",
        "    n = random.randint(2,N)\n",
        "    A = []\n",
        "    for k in range(1,n):\n",
        "      A.append(random.randint(0,M))\n",
        "    print(A)\n",
        "    result1 = MaxPairwiseProductNaive(A)\n",
        "    result2 = MaxPairwiseProductFast(A)\n",
        "    if result1 == result2:\n",
        "      print('OK')\n",
        "    else:\n",
        "      print(\"Wrong answer: \",result1,result2)\n",
        "      return\n",
        "\n",
        "StressTest(5,10)"
      ],
      "execution_count": null,
      "outputs": []
    },
    {
      "cell_type": "code",
      "metadata": {
        "id": "O3NY6mC16mra"
      },
      "source": [
        ""
      ],
      "execution_count": null,
      "outputs": []
    },
    {
      "cell_type": "markdown",
      "metadata": {
        "id": "ofi5h-9VABd_"
      },
      "source": [
        "#### Intermediate: Length of longest palindrome\n",
        "\n"
      ]
    },
    {
      "cell_type": "markdown",
      "metadata": {
        "id": "lUoGf0gPa2o9"
      },
      "source": [
        "Find the length of the longest substring in the given string s that is the same in reverse.\n",
        "\n",
        "As an example, if the input was “I like racecars that go fast”, the substring (racecar) length would be 7.\n",
        "\n",
        "If the length of the input string is 0, the return value must be 0.\n",
        "\n",
        "Example:\n",
        "\n",
        "\"a\" -> 1\n",
        "\n",
        "\"aab\" -> 2 \n",
        "\n",
        "\"abcde\" -> 1\n",
        "\n",
        "\"zzbaabcd\" -> 4\n",
        "\n",
        "\"\" -> 0"
      ]
    },
    {
      "cell_type": "code",
      "metadata": {
        "id": "ck79EkpNBBX5",
        "outputId": "2ffb47c4-217a-40d3-a6be-154fff02d663",
        "colab": {
          "base_uri": "https://localhost:8080/",
          "height": 34
        }
      },
      "source": [
        "def naive_long_pal(s):\n",
        "  n = len(s)\n",
        "  maxLength = 1\n",
        "  start = 0\n",
        "  for i in range(0,n):\n",
        "    for j in range(i,n):\n",
        "      flag = 1\n",
        "      for k in range(0,(j-i+1)//2):\n",
        "        if s[i + k] != s[j-k]:\n",
        "          flag = 0\n",
        "      if (flag and (j-i+1) > maxLength):\n",
        "        start = i\n",
        "        maxLength = j - i +1\n",
        "  return maxLength\n",
        "\n",
        "    \n",
        "def Naive_longest_palindrome (s):\n",
        "  n = len(s)\n",
        "  return naive_long_pal(s)\n",
        "\n",
        "Naive_longest_palindrome(\"abcdefghba\")"
      ],
      "execution_count": null,
      "outputs": [
        {
          "output_type": "execute_result",
          "data": {
            "text/plain": [
              "1"
            ]
          },
          "metadata": {
            "tags": []
          },
          "execution_count": 1
        }
      ]
    },
    {
      "cell_type": "code",
      "metadata": {
        "id": "icOWK12VADwU"
      },
      "source": [
        "import time\n",
        "def longest_palindrome (s):\n",
        "    longest = 0\n",
        "    for left in range(len(s)):\n",
        "        for right in range(len(s), left, -1):\n",
        "            if s[left:right] in (s[left:right])[::-1]:\n",
        "                longest = max(right-left, longest)\n",
        "                break\n",
        "    return longest\n",
        "\n",
        "s = \"zzbaabcd\"\n",
        "long_string = 'FourscoreandsevenyearsagoourfaathersbroughtforthonthiscontainentanewnationconceivedinzLibertyanddedicatedtothepropositionthatallmenarecreatedequalNowweareengagedinagreahtcivilwartestingwhetherthatnaptionoranynartionsoconceivedandsodedicatedcanlongendureWeareqmetonagreatbattlefiemldoftzhatwarWehavecometodedicpateaportionofthatfieldasafinalrestingplaceforthosewhoheregavetheirlivesthatthatnationmightliveItisaltogetherfangandproperthatweshoulddothisButinalargersensewecannotdedicatewecannotconsecratewecannothallowthisgroundThebravelmenlivinganddeadwhostruggledherehaveconsecrateditfaraboveourpoorponwertoaddordetractTgheworldadswfilllittlenotlenorlongrememberwhatwesayherebutitcanneverforgetwhattheydidhereItisforusthelivingrathertobededicatedheretotheulnfinishedworkwhichtheywhofoughtherehavethusfarsonoblyadvancedItisratherforustobeherededicatedtothegreattdafskremainingbeforeusthatfromthesehonoreddeadwetakeincreaseddevotiontothatcauseforwhichtheygavethelastpfullmeasureofdevotionthatweherehighlyresolvethatthesedeadshallnothavediedinvainthatthisnationunsderGodshallhaveanewbirthoffreedomandthatgovernmentofthepeoplebythepeopleforthepeopleshallnotperishfromtheearth'\n",
        "s = long_string"
      ],
      "execution_count": null,
      "outputs": []
    },
    {
      "cell_type": "code",
      "metadata": {
        "id": "bRi0cMP3YcF2",
        "outputId": "adfd3e4a-e1ee-4386-b21e-2ec9f48f35c9",
        "colab": {
          "base_uri": "https://localhost:8080/",
          "height": 34
        }
      },
      "source": [
        "begin = time.time()\n",
        "longest_palindrome(s)\n",
        "end = time.time() - begin\n",
        "print(end)"
      ],
      "execution_count": null,
      "outputs": [
        {
          "output_type": "stream",
          "text": [
            "0.9042582511901855\n"
          ],
          "name": "stdout"
        }
      ]
    },
    {
      "cell_type": "code",
      "metadata": {
        "id": "-QtIoNjUYrcr"
      },
      "source": [
        "def eval_pal(s,tupl):\n",
        "  l = 0\n",
        "  if (tupl[1] - tupl[0])==1:\n",
        "    l = 2\n",
        "  else:\n",
        "    l = 3\n",
        "  left = tupl[0]\n",
        "  right = tupl[1]\n",
        "  while True:\n",
        "    left -= 1\n",
        "    right += 1\n",
        "    #print(s[left],s[right])\n",
        "    if left >= 0 and right <= (len(s)-1):\n",
        "      if s[left] == s[right]:\n",
        "        l += 2\n",
        "      else:\n",
        "        break\n",
        "    else:\n",
        "      break\n",
        "  return l\n",
        "\n",
        "def special_long_pal(s):\n",
        "  if len(s) == 0:\n",
        "    return 0\n",
        "  max = 1\n",
        "  for i in range(0,(len(s)-1)):\n",
        "    l = 1\n",
        "    if s[i] == s[i+1]:\n",
        "      l = eval_pal(s,(i,i+1))\n",
        "    elif 0 <= (i-1) and (i+1) <= (len(s)-1):\n",
        "      if s[i-1] == s[i+1] :\n",
        "        l = eval_pal(s,(i-1,i+1))\n",
        "    if l > max:\n",
        "      max = l\n",
        "  return max\n",
        "  \n",
        "def longest_palindrome(s):\n",
        "    return special_long_pal(s)\n"
      ],
      "execution_count": null,
      "outputs": []
    },
    {
      "cell_type": "code",
      "metadata": {
        "id": "c7snCGHbY5Pd"
      },
      "source": [
        "def longest_palindrome(s):\n",
        "    \"\"\"Manacher algorithm - Complexity O(n)\"\"\"\n",
        "    # Transform S into T.\n",
        "    # For example, S = \"abba\", T = \"^#a#b#b#a#$\".\n",
        "    # ^ and $ signs are sentinels appended to each end to avoid bounds checking\n",
        "    T = '#'.join('^{}$'.format(s))\n",
        "    n = len(T)\n",
        "    P = [0] * n\n",
        "    C = R = 0\n",
        "    for i in range (1, n - 1):\n",
        "        P[i] = (R > i) and min(R - i, P[2*C - i]) # equals to i' = C - (i-C)\n",
        "        # Attempt to expand palindrome centered at i\n",
        "        while T[i + 1 + P[i]] == T[i - 1 - P[i]]:\n",
        "            P[i] += 1\n",
        "\n",
        "        # If palindrome centered at i expand past R,\n",
        "        # adjust center based on expanded palindrome.\n",
        "        if i + P[i] > R:\n",
        "            C, R = i, i + P[i]\n",
        "\n",
        "    # Find the maximum element in P.\n",
        "    maxLen, centerIndex = max((n, i) for i, n in enumerate(P))\n",
        "    return maxLen"
      ],
      "execution_count": null,
      "outputs": []
    },
    {
      "cell_type": "code",
      "metadata": {
        "id": "_q_IA77_YwQt",
        "outputId": "bf9bb50d-8754-4bf8-c7e3-075973489ea0",
        "colab": {
          "base_uri": "https://localhost:8080/",
          "height": 34
        }
      },
      "source": [
        "begin = time.time()\n",
        "longest_palindrome(s)\n",
        "end = time.time() - begin\n",
        "print(end)"
      ],
      "execution_count": null,
      "outputs": [
        {
          "output_type": "stream",
          "text": [
            "0.0006775856018066406\n"
          ],
          "name": "stdout"
        }
      ]
    },
    {
      "cell_type": "code",
      "metadata": {
        "id": "XBcyFvC2IvKm"
      },
      "source": [
        "left = 0\n",
        "right = len(s)-1\n",
        "s[::-1]"
      ],
      "execution_count": null,
      "outputs": []
    },
    {
      "cell_type": "code",
      "metadata": {
        "id": "ltQV4JGaXEL0",
        "outputId": "a06544b6-030c-4464-98c2-a74c5120582e",
        "colab": {
          "base_uri": "https://localhost:8080/",
          "height": 50
        }
      },
      "source": [
        "print(s[left:right] )\n",
        "print((s[left:right][::-1]))"
      ],
      "execution_count": null,
      "outputs": [
        {
          "output_type": "stream",
          "text": [
            "zzbaabc\n",
            "cbaabzz\n"
          ],
          "name": "stdout"
        }
      ]
    },
    {
      "cell_type": "code",
      "metadata": {
        "id": "QeUUqZ23XuaM"
      },
      "source": [
        ""
      ],
      "execution_count": null,
      "outputs": []
    },
    {
      "cell_type": "markdown",
      "metadata": {
        "id": "FX_p3eAaZRQW"
      },
      "source": [
        "#### Advanced: Snail\n",
        "\n",
        "\n"
      ]
    },
    {
      "cell_type": "markdown",
      "metadata": {
        "id": "6M2DBGp2a5x0"
      },
      "source": [
        "Given an n x n array, return the array elements arranged from outermost elements to the middle element, traveling clockwise.\n",
        "\n",
        "array = [[1,2,3],\n",
        "         [4,5,6],\n",
        "         [7,8,9]]\n",
        "\n",
        "snail(array) #=> [1,2,3,6,9,8,7,4,5]\n",
        "\n",
        "For better understanding, please follow the numbers of the next array consecutively:\n",
        "\n",
        "array = [[1,2,3],\n",
        "         [8,9,4],\n",
        "         [7,6,5]]\n",
        "\n",
        "snail(array) #=> [1,2,3,4,5,6,7,8,9]\n",
        "\n",
        "<img src=\"https://www.haan.lu/files/2513/8347/2456/snail.png\">"
      ]
    },
    {
      "cell_type": "code",
      "metadata": {
        "id": "yHMmqSOwZaMn"
      },
      "source": [
        "def snail(array):\n",
        "    ret = []\n",
        "    if array and array[0]:\n",
        "        size = len(array)\n",
        "        for n in range((size + 1) // 2):\n",
        "            for x in range(n, size - n):\n",
        "                ret.append(array[n][x])\n",
        "            for y in range(1 + n, size - n):\n",
        "                ret.append(array[y][-1 - n])\n",
        "            for x in range(2 + n, size - n + 1):\n",
        "                ret.append(array[-1 - n][-x])\n",
        "            for y in range(2 + n, size - n):\n",
        "                ret.append(array[-y][n])\n",
        "    return ret"
      ],
      "execution_count": null,
      "outputs": []
    },
    {
      "cell_type": "code",
      "metadata": {
        "id": "rrmKLAspZ5wi"
      },
      "source": [
        "# my implementation/explanation of the solution by foxxyz\n",
        "def snail(array):\n",
        "  if array:\n",
        "    # force to list because zip returns a list of tuples\n",
        "    top_row = list(array[0])\n",
        "    # rotate the array by switching remaining rows & columns with zip\n",
        "    # the * expands the remaining rows so they can be matched by column\n",
        "    rotated_array = zip(*array[1:])\n",
        "    # then reverse rows to make the formerly last column the next top row\n",
        "    rotated_array = rotated_array[::-1]\n",
        "    return top_row + snail(rotated_array)\n",
        "  else:\n",
        "    return []"
      ],
      "execution_count": null,
      "outputs": []
    },
    {
      "cell_type": "code",
      "metadata": {
        "id": "mOdZdKdXaA3q"
      },
      "source": [
        ""
      ],
      "execution_count": null,
      "outputs": []
    },
    {
      "cell_type": "markdown",
      "metadata": {
        "id": "s0bOkzEJaHD_"
      },
      "source": [
        "#### Advanced: Twice linear\n"
      ]
    },
    {
      "cell_type": "markdown",
      "metadata": {
        "id": "W-dFpIVia9ME"
      },
      "source": [
        "Consider a sequence u where u is defined as follows:\n",
        "\n",
        "--- The number u(0) = 1 is the first one in u.\n",
        "\n",
        "--- For each x in u, then y = 2 * x + 1 and z = 3 * x + 1 must be in u too.\n",
        "\n",
        "--- There are no other numbers in u.\n",
        "\n",
        "Ex: \n",
        "\n",
        "u = [1, 3, 4, 7, 9, 10, 13, 15, 19, 21, 22, 27, ...]\n",
        "\n",
        "1 gives 3 and 4, then 3 gives 7 and 10, 4 gives 9 and 13, then 7 gives 15 and 22 and so on...\n",
        "\n",
        "Task:\n",
        "\n",
        "Given parameter n the function dbl_linear (or dblLinear...) returns the element u(n) of the ordered (with <) sequence u (so, there are no duplicates).\n",
        "\n",
        "Example:\n",
        "\n",
        "dbl_linear(10) should return 22"
      ]
    },
    {
      "cell_type": "code",
      "metadata": {
        "id": "Izcbu9XKaWEK"
      },
      "source": [
        "def dbl_linear(n):\n",
        "  num_list = [1]\n",
        "  for i in num_list:\n",
        "    num_list.append((i * 2) + 1)\n",
        "    num_list.append((i * 3) + 1)\n",
        "    if len(num_list) > n *10:\n",
        "      break\n",
        "  return sorted(list(set(num_list)))[n]"
      ],
      "execution_count": null,
      "outputs": []
    },
    {
      "cell_type": "code",
      "metadata": {
        "id": "DNJ0gzfLajK7"
      },
      "source": [
        "def dbl_linear(n):\n",
        "    u = [1]\n",
        "    i = 0\n",
        "    j = 0\n",
        "    while len(u) <= n:\n",
        "        x = 2 * u[i] + 1\n",
        "        y = 3 * u[j] + 1\n",
        "        if x <= y:\n",
        "            i += 1\n",
        "        if x >= y:\n",
        "            j += 1\n",
        "        u.append(min(x,y))\n",
        "    return u[n]"
      ],
      "execution_count": null,
      "outputs": []
    },
    {
      "cell_type": "code",
      "metadata": {
        "id": "iBaow_SMajzD"
      },
      "source": [
        ""
      ],
      "execution_count": null,
      "outputs": []
    }
  ]
}