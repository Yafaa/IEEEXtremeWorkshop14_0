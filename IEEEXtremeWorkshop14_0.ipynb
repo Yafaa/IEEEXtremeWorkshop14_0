{
  "nbformat": 4,
  "nbformat_minor": 0,
  "metadata": {
    "colab": {
      "name": "IEEEXtremeWorkshop14.0.ipynb",
      "provenance": [],
      "collapsed_sections": [],
      "toc_visible": true
    },
    "kernelspec": {
      "name": "python3",
      "display_name": "Python 3"
    }
  },
  "cells": [
    {
      "cell_type": "markdown",
      "metadata": {
        "id": "Qu-RWaPnP8nq"
      },
      "source": [
        "<img src=\"https://ieeextreme.org/wp-content/uploads/2020/06/LogoXtreme14-Color.png\" alt=\"ieeextreme\">"
      ]
    },
    {
      "cell_type": "markdown",
      "metadata": {
        "id": "tVT1Dk9tQCgp"
      },
      "source": [
        "Welcome to IEEE ENICARTHAGE SB Training Workshop\n"
      ]
    },
    {
      "cell_type": "markdown",
      "metadata": {
        "id": "5ZeDfgyGYXgH"
      },
      "source": [
        "#### Beginner: MaximumPairwiseProduct Problem"
      ]
    },
    {
      "cell_type": "markdown",
      "metadata": {
        "id": "Izoca1_msE8R"
      },
      "source": [
        "Let’s take a quick look at a simple problem:\n",
        "\n",
        "Given a list of numbers, how would you determine the maximum pairwise product of numbers in the list?\n",
        "\n",
        "For example, if we have the list [1; 3; 5; -2] the maximum pairwise product is 15, which is the product of 3 and 5.\n",
        "\n",
        "The straigt-forward approach is to compute all possible pairwise products and identify the maximum among the intermediate results:\n"
      ]
    },
    {
      "cell_type": "code",
      "metadata": {
        "id": "382B9IDoYa7q"
      },
      "source": [
        "[1,6,3,5,7] => 42\n",
        "[1,2] => 2"
      ],
      "execution_count": null,
      "outputs": []
    },
    {
      "cell_type": "code",
      "metadata": {
        "id": "GMlUJHy7nqMm"
      },
      "source": [
        "def MaxPairwiseProductNaive(A):\n",
        "  pass"
      ],
      "execution_count": null,
      "outputs": []
    },
    {
      "cell_type": "code",
      "metadata": {
        "id": "8wSAfnrcvfdm",
        "outputId": "c40c69fa-c5fb-4cd2-cb09-19b0962090ca",
        "colab": {
          "base_uri": "https://localhost:8080/",
          "height": 34
        }
      },
      "source": [
        "def MaxPairwiseProductFast(a):\n",
        "  pass\n"
      ],
      "execution_count": null,
      "outputs": [
        {
          "output_type": "execute_result",
          "data": {
            "text/plain": [
              "90"
            ]
          },
          "metadata": {
            "tags": []
          },
          "execution_count": 6
        }
      ]
    },
    {
      "cell_type": "code",
      "metadata": {
        "id": "IYyCN_gaP1vH"
      },
      "source": [
        "def MaxPairwiseProductVeryFast(a):\n",
        "  pass"
      ],
      "execution_count": null,
      "outputs": []
    },
    {
      "cell_type": "code",
      "metadata": {
        "id": "QNBP8VnEQlCB"
      },
      "source": [
        "def MaxPairwiseProductNaive(A):\n",
        "  product = 0\n",
        "  n = len(A)\n",
        "  for i in range(n):\n",
        "    for j in range(i+1,n):\n",
        "      if product < A[i] * A[j]:\n",
        "        product = A[i]*A[j]\n",
        "  return product"
      ],
      "execution_count": null,
      "outputs": []
    },
    {
      "cell_type": "code",
      "metadata": {
        "id": "jzUjruXbuGQk",
        "outputId": "a9014318-3cb0-4ec7-8acb-03e4a8dbcded",
        "colab": {
          "base_uri": "https://localhost:8080/",
          "height": 84
        }
      },
      "source": [
        "import unittest\n",
        "import time\n",
        "import random\n",
        "\n",
        "class Test(unittest.TestCase):\n",
        "\n",
        "    def assert_equals(self,a,b):\n",
        "        try:\n",
        "          self.assertEqual(a, b)\n",
        "          print('OK')\n",
        "        except Exception as e:\n",
        "          print('FAILED: ',e)\n",
        "\n",
        "    def testing(self,algo):\n",
        "      self.assert_equals(algo([1,6,3,5,7]), 42)\n",
        "      self.assert_equals(algo([1,2]), 2)\n",
        "      self.assert_equals(algo([8,5,10,9]), 90)\n",
        "      self.assert_equals(algo([-5,-6,7,9]), 63)\n",
        "  \n",
        "\n",
        "test = Test()\n",
        "test.testing(MaxPairwiseProductNaive)\n"
      ],
      "execution_count": null,
      "outputs": [
        {
          "output_type": "stream",
          "text": [
            "OK\n",
            "OK\n",
            "OK\n",
            "OK\n"
          ],
          "name": "stdout"
        }
      ]
    },
    {
      "cell_type": "code",
      "metadata": {
        "id": "zb1TEHVcooZB"
      },
      "source": [
        "import random\n",
        "import time\n",
        "\n",
        "def StressTest(N,M):\n",
        "  timeout = time.time() + 60*2   # 2 minutes from now\n",
        "  while True:\n",
        "    if time.time() > timeout:\n",
        "      print(\"Stress Test ended with success.\")\n",
        "      break\n",
        "    n = random.randint(2,N)\n",
        "    A = []\n",
        "    for k in range(1,n):\n",
        "      A.append(random.randint(0,M))\n",
        "    print(A)\n",
        "    result1 = MaxPairwiseProductNaive(A)\n",
        "    result2 = MaxPairwiseProductFast(A)\n",
        "    if result1 == result2:\n",
        "      print('OK')\n",
        "    else:\n",
        "      print(\"Wrong answer: \",result1,result2)\n",
        "      return\n",
        "\n"
      ],
      "execution_count": null,
      "outputs": []
    },
    {
      "cell_type": "code",
      "metadata": {
        "id": "O3NY6mC16mra"
      },
      "source": [
        ""
      ],
      "execution_count": null,
      "outputs": []
    },
    {
      "cell_type": "markdown",
      "metadata": {
        "id": "ofi5h-9VABd_"
      },
      "source": [
        "#### Intermediate: Length of longest palindrome\n",
        "\n"
      ]
    },
    {
      "cell_type": "markdown",
      "metadata": {
        "id": "lUoGf0gPa2o9"
      },
      "source": [
        "Find the length of the longest substring in the given string s that is the same in reverse.\n",
        "\n",
        "As an example, if the input was “I like racecars that go fast”, the substring (racecar) length would be 7.\n",
        "\n",
        "If the length of the input string is 0, the return value must be 0.\n",
        "\n",
        "Example:\n",
        "\n",
        "\"a\" -> 1\n",
        "\n",
        "\"aab\" -> 2 \n",
        "\n",
        "\"abcde\" -> 1\n",
        "\n",
        "\"zzbaabcd\" -> 4\n",
        "\n",
        "\"\" -> 0"
      ]
    },
    {
      "cell_type": "code",
      "metadata": {
        "id": "icOWK12VADwU"
      },
      "source": [
        "import time\n",
        "def longest_palindrome (s):\n",
        "    pass\n",
        "\n",
        "s = \"zzbaabcd\"\n",
        "long_string = 'FourscoreandsevenyearsagoourfaathersbroughtforthonthiscontainentanewnationconceivedinzLibertyanddedicatedtothepropositionthatallmenarecreatedequalNowweareengagedinagreahtcivilwartestingwhetherthatnaptionoranynartionsoconceivedandsodedicatedcanlongendureWeareqmetonagreatbattlefiemldoftzhatwarWehavecometodedicpateaportionofthatfieldasafinalrestingplaceforthosewhoheregavetheirlivesthatthatnationmightliveItisaltogetherfangandproperthatweshoulddothisButinalargersensewecannotdedicatewecannotconsecratewecannothallowthisgroundThebravelmenlivinganddeadwhostruggledherehaveconsecrateditfaraboveourpoorponwertoaddordetractTgheworldadswfilllittlenotlenorlongrememberwhatwesayherebutitcanneverforgetwhattheydidhereItisforusthelivingrathertobededicatedheretotheulnfinishedworkwhichtheywhofoughtherehavethusfarsonoblyadvancedItisratherforustobeherededicatedtothegreattdafskremainingbeforeusthatfromthesehonoreddeadwetakeincreaseddevotiontothatcauseforwhichtheygavethelastpfullmeasureofdevotionthatweherehighlyresolvethatthesedeadshallnothavediedinvainthatthisnationunsderGodshallhaveanewbirthoffreedomandthatgovernmentofthepeoplebythepeopleforthepeopleshallnotperishfromtheearth'\n",
        "s = long_string"
      ],
      "execution_count": null,
      "outputs": []
    },
    {
      "cell_type": "code",
      "metadata": {
        "id": "bRi0cMP3YcF2",
        "outputId": "adfd3e4a-e1ee-4386-b21e-2ec9f48f35c9",
        "colab": {
          "base_uri": "https://localhost:8080/",
          "height": 34
        }
      },
      "source": [
        "begin = time.time()\n",
        "longest_palindrome(s)\n",
        "end = time.time() - begin\n",
        "print(end)"
      ],
      "execution_count": null,
      "outputs": [
        {
          "output_type": "stream",
          "text": [
            "0.9042582511901855\n"
          ],
          "name": "stdout"
        }
      ]
    },
    {
      "cell_type": "code",
      "metadata": {
        "id": "XBcyFvC2IvKm"
      },
      "source": [
        "left = 0\n",
        "right = len(s)-1\n",
        "s[::-1]"
      ],
      "execution_count": null,
      "outputs": []
    },
    {
      "cell_type": "code",
      "metadata": {
        "id": "ltQV4JGaXEL0",
        "outputId": "a06544b6-030c-4464-98c2-a74c5120582e",
        "colab": {
          "base_uri": "https://localhost:8080/",
          "height": 50
        }
      },
      "source": [
        "print(s[left:right] )\n",
        "print((s[left:right][::-1]))"
      ],
      "execution_count": null,
      "outputs": [
        {
          "output_type": "stream",
          "text": [
            "zzbaabc\n",
            "cbaabzz\n"
          ],
          "name": "stdout"
        }
      ]
    },
    {
      "cell_type": "code",
      "metadata": {
        "id": "QeUUqZ23XuaM"
      },
      "source": [
        ""
      ],
      "execution_count": null,
      "outputs": []
    },
    {
      "cell_type": "markdown",
      "metadata": {
        "id": "FX_p3eAaZRQW"
      },
      "source": [
        "#### Advanced: Snail\n",
        "\n",
        "\n"
      ]
    },
    {
      "cell_type": "markdown",
      "metadata": {
        "id": "6M2DBGp2a5x0"
      },
      "source": [
        "Given an n x n array, return the array elements arranged from outermost elements to the middle element, traveling clockwise.\n",
        "\n",
        "array = [[1,2,3],\n",
        "         [4,5,6],\n",
        "         [7,8,9]]\n",
        "\n",
        "snail(array) #=> [1,2,3,6,9,8,7,4,5]\n",
        "\n",
        "For better understanding, please follow the numbers of the next array consecutively:\n",
        "\n",
        "array = [[1,2,3],\n",
        "         [8,9,4],\n",
        "         [7,6,5]]\n",
        "\n",
        "snail(array) #=> [1,2,3,4,5,6,7,8,9]\n",
        "\n",
        "<img src=\"https://www.haan.lu/files/2513/8347/2456/snail.png\">"
      ]
    },
    {
      "cell_type": "code",
      "metadata": {
        "id": "yHMmqSOwZaMn"
      },
      "source": [
        "def snail(array):\n",
        "    pass"
      ],
      "execution_count": null,
      "outputs": []
    },
    {
      "cell_type": "code",
      "metadata": {
        "id": "mOdZdKdXaA3q"
      },
      "source": [
        ""
      ],
      "execution_count": null,
      "outputs": []
    },
    {
      "cell_type": "markdown",
      "metadata": {
        "id": "s0bOkzEJaHD_"
      },
      "source": [
        "#### Advanced: Twice linear\n"
      ]
    },
    {
      "cell_type": "markdown",
      "metadata": {
        "id": "STxzLvrtP5X5"
      },
      "source": [
        ""
      ]
    },
    {
      "cell_type": "markdown",
      "metadata": {
        "id": "Q2L8qVtiP7jq"
      },
      "source": [
        ""
      ]
    },
    {
      "cell_type": "markdown",
      "metadata": {
        "id": "W-dFpIVia9ME"
      },
      "source": [
        "Consider a sequence u where u is defined as follows:\n",
        "\n",
        "--- The number u(0) = 1 is the first one in u.\n",
        "\n",
        "--- For each x in u, then y = 2 * x + 1 and z = 3 * x + 1 must be in u too.\n",
        "\n",
        "--- There are no other numbers in u.\n",
        "\n",
        "Ex: \n",
        "\n",
        "u = [1, 3, 4, 7, 9, 10, 13, 15, 19, 21, 22, 27, ...]\n",
        "\n",
        "1 gives 3 and 4, then 3 gives 7 and 10, 4 gives 9 and 13, then 7 gives 15 and 22 and so on...\n",
        "\n",
        "Task:\n",
        "\n",
        "Given parameter n the function dbl_linear (or dblLinear...) returns the element u(n) of the ordered (with <) sequence u (so, there are no duplicates).\n",
        "\n",
        "Example:\n",
        "\n",
        "dbl_linear(10) should return 22"
      ]
    },
    {
      "cell_type": "code",
      "metadata": {
        "id": "Izcbu9XKaWEK"
      },
      "source": [
        "def dbl_linear(n):\n",
        "  pass"
      ],
      "execution_count": null,
      "outputs": []
    }
  ]
}